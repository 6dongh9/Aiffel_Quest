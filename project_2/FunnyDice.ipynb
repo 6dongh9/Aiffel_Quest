{
 "cells": [
  {
   "cell_type": "code",
   "execution_count": 4,
   "id": "2b1b7f42",
   "metadata": {},
   "outputs": [],
   "source": [
    "from random import randrange"
   ]
  },
  {
   "cell_type": "code",
   "execution_count": 5,
   "id": "b7f6f455",
   "metadata": {},
   "outputs": [],
   "source": [
    "class FunnyDice:\n",
    "    def __init__(self):\n",
    "        while True:\n",
    "            print('''\\n----------[MENU]----------\\n\n",
    "(1) N각형 주사위 굴리기\n",
    "(2) 6각형 주사위를 굴려서 나올 숫자 맞춰보기\n",
    "(종료 : 0)\\n''')\n",
    "            self.ans = int(input('Select a menu number : '))\n",
    "            if self.ans == 0:\n",
    "                print('프로그램을 종료합니다.')\n",
    "                break\n",
    "            elif self.ans == 1:\n",
    "                self.throw_n()\n",
    "                if self.ask_continue() == False:\n",
    "                    print('프로그램을 종료합니다.')\n",
    "                    break\n",
    "            elif self.ans == 2:\n",
    "                self.predict_number()\n",
    "                if self.ask_continue() == False:\n",
    "                    print('프로그램을 종료합니다.')\n",
    "                    break\n",
    "            else:\n",
    "                print('잘못된 숫자입니다.')\n",
    "    \n",
    "    def throw_n(self):\n",
    "        self.n = int(input('\\n주사위의 면 수를 입력하세요 : '))\n",
    "        print('\\n---{}각형 주사위 굴리기---'.format(self.n))\n",
    "        self.count = 1\n",
    "        while True:\n",
    "            self.number = randrange(1, self.n + 1)\n",
    "            print('\\n{}번째 : {}'.format(self.count, self.number))\n",
    "            self.ans = input('다시 굴리기 [Y/N] : ')\n",
    "            if (self.ans == 'Y') | (self.ans == 'y'):\n",
    "                self.count += 1\n",
    "                continue\n",
    "            else:\n",
    "                break\n",
    "    \n",
    "    def predict_number(self):\n",
    "        print('\\n---주사위 숫자 맞추기---')\n",
    "        print('\\n1부터 6까지의 숫자 중 하나를 입력하세요.\\n맞출 수 있는 기회는 3번 뿐입니다.\\n')\n",
    "        self.number = randrange(1, 7)\n",
    "        self.count = 1\n",
    "        while True:\n",
    "            self.me = int(input('{}번째 : '.format(self.count)))\n",
    "            if self.me == self.number:\n",
    "                print('정답입니다.')\n",
    "                break\n",
    "            else:\n",
    "                print('땡\\n')\n",
    "            self.count += 1\n",
    "            if self.count == 4:\n",
    "                print('기회 끝. 정답은 {}입니다.'.format(self.number))\n",
    "                break\n",
    "                \n",
    "    def ask_continue(self):\n",
    "            self.ans = input('\\n메뉴로 돌아가시겠습니까? [Y/N] : ')\n",
    "            if (self.ans == 'Y') | (self.ans == 'y'):\n",
    "                return True\n",
    "            else:\n",
    "                return False"
   ]
  },
  {
   "cell_type": "code",
   "execution_count": 14,
   "id": "5c5c3803",
   "metadata": {},
   "outputs": [
    {
     "name": "stdout",
     "output_type": "stream",
     "text": [
      "\n",
      "----------[MENU]----------\n",
      "\n",
      "(1) N각형 주사위 굴리기\n",
      "(2) 6각형 주사위를 굴려서 나올 숫자 맞춰보기\n",
      "(종료 : 0)\n",
      "\n",
      "Select a menu number : 12345ㄱ\n"
     ]
    },
    {
     "ename": "ValueError",
     "evalue": "invalid literal for int() with base 10: '12345ㄱ'",
     "output_type": "error",
     "traceback": [
      "\u001b[0;31m---------------------------------------------------------------------------\u001b[0m",
      "\u001b[0;31mValueError\u001b[0m                                Traceback (most recent call last)",
      "\u001b[0;32m/tmp/ipykernel_198/2515033556.py\u001b[0m in \u001b[0;36m<module>\u001b[0;34m\u001b[0m\n\u001b[0;32m----> 1\u001b[0;31m \u001b[0mmydice\u001b[0m \u001b[0;34m=\u001b[0m \u001b[0mFunnyDice\u001b[0m\u001b[0;34m(\u001b[0m\u001b[0;34m)\u001b[0m\u001b[0;34m\u001b[0m\u001b[0;34m\u001b[0m\u001b[0m\n\u001b[0m",
      "\u001b[0;32m/tmp/ipykernel_198/3358619500.py\u001b[0m in \u001b[0;36m__init__\u001b[0;34m(self)\u001b[0m\n\u001b[1;32m      6\u001b[0m \u001b[0;34m(\u001b[0m\u001b[0;36m2\u001b[0m\u001b[0;34m)\u001b[0m \u001b[0;36m6\u001b[0m\u001b[0m각형\u001b[0m \u001b[0m주사위를\u001b[0m \u001b[0m굴려서\u001b[0m \u001b[0m나올\u001b[0m \u001b[0m숫자\u001b[0m \u001b[0m맞춰보기\u001b[0m\u001b[0;34m\u001b[0m\u001b[0;34m\u001b[0m\u001b[0m\n\u001b[1;32m      7\u001b[0m (종료 : 0)\\n''')\n\u001b[0;32m----> 8\u001b[0;31m             \u001b[0mself\u001b[0m\u001b[0;34m.\u001b[0m\u001b[0mans\u001b[0m \u001b[0;34m=\u001b[0m \u001b[0mint\u001b[0m\u001b[0;34m(\u001b[0m\u001b[0minput\u001b[0m\u001b[0;34m(\u001b[0m\u001b[0;34m'Select a menu number : '\u001b[0m\u001b[0;34m)\u001b[0m\u001b[0;34m)\u001b[0m\u001b[0;34m\u001b[0m\u001b[0;34m\u001b[0m\u001b[0m\n\u001b[0m\u001b[1;32m      9\u001b[0m             \u001b[0;32mif\u001b[0m \u001b[0mself\u001b[0m\u001b[0;34m.\u001b[0m\u001b[0mans\u001b[0m \u001b[0;34m==\u001b[0m \u001b[0;36m0\u001b[0m\u001b[0;34m:\u001b[0m\u001b[0;34m\u001b[0m\u001b[0;34m\u001b[0m\u001b[0m\n\u001b[1;32m     10\u001b[0m                 \u001b[0mprint\u001b[0m\u001b[0;34m(\u001b[0m\u001b[0;34m'프로그램을 종료합니다.'\u001b[0m\u001b[0;34m)\u001b[0m\u001b[0;34m\u001b[0m\u001b[0;34m\u001b[0m\u001b[0m\n",
      "\u001b[0;31mValueError\u001b[0m: invalid literal for int() with base 10: '12345ㄱ'"
     ]
    }
   ],
   "source": [
    "mydice = FunnyDice()"
   ]
  },
  {
   "cell_type": "code",
   "execution_count": null,
   "id": "379b010f",
   "metadata": {},
   "outputs": [],
   "source": []
  }
 ],
 "metadata": {
  "kernelspec": {
   "display_name": "Python 3 (ipykernel)",
   "language": "python",
   "name": "python3"
  },
  "language_info": {
   "codemirror_mode": {
    "name": "ipython",
    "version": 3
   },
   "file_extension": ".py",
   "mimetype": "text/x-python",
   "name": "python",
   "nbconvert_exporter": "python",
   "pygments_lexer": "ipython3",
   "version": "3.9.7"
  }
 },
 "nbformat": 4,
 "nbformat_minor": 5
}

## 회고  

1) 이번 프로젝트를 하면서 배운 점
  - class와 def의 사용을 익힐 수 있었다.
  - if문과 while문을 활용하면서 제어문의 작동 방식을 잘 이해할 수 있었다.  

2) 이번 프로젝트를 하면서 아쉬웠던 점
  - class의 상속을 활용해보지 않았다. 상속의 개념은 이해했지만, 이를 프로젝트 내에서 효율적으로 활용하기 위해 노력하지 않았던 것 같다.
  - 마찬가지로 상속을 활용하지 않아, 부모 클래스를 호출하는 super()를 사용해보지 않았다. super() 또한 개념은 이해했지만, 실제로 사용하는 건 연습을 해봐야 할 것 같다.  

3) 보완할 점
  - 노드에서 배운 내용을 모두 활용하여 효율적으로 구성된 프로그램을 짜는 데 신경을 써봐야겠다.  
