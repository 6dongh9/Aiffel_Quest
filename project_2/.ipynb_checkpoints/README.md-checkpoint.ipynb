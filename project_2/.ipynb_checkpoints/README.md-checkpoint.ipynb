{
 "cells": [
  {
   "cell_type": "markdown",
   "id": "5fa9f157",
   "metadata": {},
   "source": [
    "# n면체 주사위 만들기\n",
    "\n",
    "코더 : [강동훈]\n",
    "\n",
    "리뷰어 : [허지은]"
   ]
  },
  {
   "cell_type": "markdown",
   "id": "ff16a942",
   "metadata": {},
   "source": [
    "## PRT(PeerReviewTemplate)\n",
    "\n",
    "각 항목을 스스로 확인하고 토의하여 작성한 코드에 적용합니다.\n",
    "\n",
    "- **[0] 코드가 정상적으로 동작하고 주어진 문제를 해결했나요?**\n",
    "\n",
    "> 코드에 담긴 안내 메세지대로 수행하면 정상적으로 동작했다. \n",
    "> 기본 주사위 만들기를 모두 수행했다.  \n",
    "> 기본 주사위 만들기뿐만아니라 주사위 숫자 맞추기 기능까지 추가했다. \n",
    "\n",
    "- **[X] 주석을 보고 작성자의 코드가 이해되었나요?**\n",
    "\n",
    "> 주석이 없었다...\n",
    "\n",
    "- **[△] 코드가 에러를 유발할 가능성이 없나요?**\n",
    "\n",
    "> 사용자의 입력을 받는 부분에서 정해진 숫자나 답이 아닌경우 잘못된 숫자라고 안내하거나 프로그램을 종료한다는 문구와함께 프로그램이 종료되도록했다. \n",
    "> 하지만 사용자가 input을 빈칸으로 입력하거나 문자로 입력하면 ValueError가 발생했다.\n",
    "\n",
    "- **[O] 코드 작성자가 코드를 제대로 이해하고 작성했나요?**\n",
    "\n",
    "> 네!! 작성작의 의도에 맞게 변수를 잘 사용했고 함수이름도 용동에 맞게 잘 작명했습니다.\n",
    "\n",
    "- **[0] 코드가 간결한가요?**\n",
    "\n",
    "> class안에 주사위의 기능에 맞게 잘 나누어서 함수로 구현해놨기 때문에 가독성이 좋았고 쉽게 이해할 수 있다. \n"
   ]
  },
  {
   "cell_type": "markdown",
   "id": "a9304eb9",
   "metadata": {},
   "source": [
    "# 참고 링크 및 코드 개선"
   ]
  },
  {
   "cell_type": "markdown",
   "id": "c5f254e9",
   "metadata": {},
   "source": [
    "_코드 리뷰 시 참고한 링크가 있다면 링크와 간략한 설명을 첨부합니다._\n",
    "\n",
    "_코드 리뷰를 통해 개선한 코드가 있다면 코드와 간략한 설명을 첨부합니다._\n",
    "\n",
    "> *정말 조금의 개선점 ...*\n",
    "> throw_n함수에서 주사위를 굴린이후 사용자에게 다시굴리는지 물어보는 부분이 ask_continue함수의 기능과 비슷한것 같다. 그래서 이 함수를 호출해서 사용해도 될것 같다. "
   ]
  },
  {
   "cell_type": "code",
   "execution_count": null,
   "id": "d0734be8",
   "metadata": {},
   "outputs": [],
   "source": []
  }
 ],
 "metadata": {
  "kernelspec": {
   "display_name": "Python 3 (ipykernel)",
   "language": "python",
   "name": "python3"
  },
  "language_info": {
   "codemirror_mode": {
    "name": "ipython",
    "version": 3
   },
   "file_extension": ".py",
   "mimetype": "text/x-python",
   "name": "python",
   "nbconvert_exporter": "python",
   "pygments_lexer": "ipython3",
   "version": "3.9.7"
  }
 },
 "nbformat": 4,
 "nbformat_minor": 5
}
