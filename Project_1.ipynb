{
 "cells": [
  {
   "cell_type": "code",
   "execution_count": 1,
   "id": "ced26bc5",
   "metadata": {},
   "outputs": [
    {
     "name": "stdout",
     "output_type": "stream",
     "text": [
      "010-12345-#####\n"
     ]
    }
   ],
   "source": [
    "# Project_1\n",
    "\n",
    "def change_num(nums):\n",
    "    return nums.replace(nums[-5:], '#####')\n",
    "\n",
    "a = '010-12345-67891'\n",
    "print(change_num(a))"
   ]
  },
  {
   "cell_type": "code",
   "execution_count": 2,
   "id": "071bd427",
   "metadata": {},
   "outputs": [
    {
     "name": "stdout",
     "output_type": "stream",
     "text": [
      "[1, 2, 3, 4, 5, 6, 7, 8, 9]\n"
     ]
    }
   ],
   "source": [
    "# Project_2\n",
    "\n",
    "def flatten(data):\n",
    "    output = []\n",
    "    for i in data:\n",
    "        if type(i) == list:\n",
    "            output += flatten(i)\n",
    "        else:\n",
    "            output.append(i)\n",
    "    return output\n",
    "\n",
    "b = [[1, 2], 3, [[4, 5, 6], 7], 8, 9]\n",
    "print(flatten(b))"
   ]
  },
  {
   "cell_type": "code",
   "execution_count": 3,
   "id": "fa1f3dfb",
   "metadata": {},
   "outputs": [
    {
     "name": "stdout",
     "output_type": "stream",
     "text": [
      "120\n"
     ]
    }
   ],
   "source": [
    "# Project_3\n",
    "\n",
    "def mul(*values):\n",
    "    result = 1\n",
    "    for n in values:\n",
    "        if n <= 10:\n",
    "            result *= n\n",
    "        else:\n",
    "            pass\n",
    "    return result\n",
    "\n",
    "c = [1, 2, 3, 4, 5]\n",
    "print(mul(*c))"
   ]
  },
  {
   "cell_type": "code",
   "execution_count": null,
   "id": "ef2e8214",
   "metadata": {},
   "outputs": [],
   "source": [
    "회고\n",
    "\n",
    "리스트 평탄화에서 재귀함수가 어떻게 작동하는지 이해하는 데 시간이 많이 소요되었다. output=[]를 함수 안에 정의해서 재귀호출을 하면 이전에\n",
    "output 리스트에 저장되었던 요소가 모두 초기화됐다. 이러한 이슈는 output에 평탄화한 값을 더해서 다시 저장함으로써 해결할 수 있었다.\n",
    "\n",
    "프로젝트 1번과 3번은 큰 어려움 없이 완성할 수 있었다."
   ]
  }
 ],
 "metadata": {
  "kernelspec": {
   "display_name": "Python 3 (ipykernel)",
   "language": "python",
   "name": "python3"
  },
  "language_info": {
   "codemirror_mode": {
    "name": "ipython",
    "version": 3
   },
   "file_extension": ".py",
   "mimetype": "text/x-python",
   "name": "python",
   "nbconvert_exporter": "python",
   "pygments_lexer": "ipython3",
   "version": "3.9.7"
  }
 },
 "nbformat": 4,
 "nbformat_minor": 5
}
